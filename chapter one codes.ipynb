{
 "cells": [
  {
   "cell_type": "code",
   "execution_count": 3,
   "metadata": {},
   "outputs": [],
   "source": [
    "import matplotlib.pyplot as plt # importing the packages \n",
    "from nltk.parse.stanford import StanfordParser\n",
    "import numpy as np\n",
    "\n",
    "%matplotlib inline"
   ]
  },
  {
   "cell_type": "code",
   "execution_count": 5,
   "metadata": {},
   "outputs": [
    {
     "data": {
      "text/plain": [
       "'1.16.2'"
      ]
     },
     "execution_count": 5,
     "metadata": {},
     "output_type": "execute_result"
    }
   ],
   "source": [
    "np.__version__ # the version of the numpy will be shown"
   ]
  },
  {
   "cell_type": "code",
   "execution_count": 12,
   "metadata": {
    "scrolled": true
   },
   "outputs": [
    {
     "data": {
      "text/plain": [
       "[1, 2, 3, 4, 5]"
      ]
     },
     "execution_count": 12,
     "metadata": {},
     "output_type": "execute_result"
    }
   ],
   "source": [
    "## initializing vector and printing it \n",
    "\n",
    "x = [1, 2, 3, 4, 5]\n",
    "x"
   ]
  },
  {
   "cell_type": "code",
   "execution_count": 13,
   "metadata": {
    "scrolled": false
   },
   "outputs": [
    {
     "name": "stdout",
     "output_type": "stream",
     "text": [
      "[1 2 3 4 5]\n",
      "<class 'numpy.ndarray'>\n"
     ]
    }
   ],
   "source": [
    "# using numpy and then initializing the array ,print it and see the type of the array\n",
    "import numpy as np\n",
    "x = np.array([1, 2, 3, 4, 5])\n",
    "\n",
    "print(x)\n",
    "print(type(x))"
   ]
  },
  {
   "cell_type": "code",
   "execution_count": 14,
   "metadata": {},
   "outputs": [
    {
     "name": "stdout",
     "output_type": "stream",
     "text": [
      "[[1 5 2]\n",
      " [4 7 4]\n",
      " [2 0 9]]\n",
      "(3, 3)\n"
     ]
    }
   ],
   "source": [
    "## using numpy to initialize the matrix and then print it and understanding its size\n",
    "\n",
    "m = np.array([[1, 5, 2],\n",
    "              [4, 7, 4],\n",
    "              [2, 0, 9]])\n",
    "\n",
    "# view matrix\n",
    "print(m)\n",
    "\n",
    "# view dimensions\n",
    "print(m.shape)"
   ]
  },
  {
   "cell_type": "code",
   "execution_count": 15,
   "metadata": {},
   "outputs": [
    {
     "name": "stdout",
     "output_type": "stream",
     "text": [
      "Matrix Transpose:\n",
      " [[1 4 2]\n",
      " [5 7 0]\n",
      " [2 4 9]] \n",
      "\n"
     ]
    }
   ],
   "source": [
    "# transposing the matrix using transpose functioni.e the row becomes the column and vice verse\n",
    "print('Matrix Transpose:\\n', m.transpose(), '\\n')"
   ]
  },
  {
   "cell_type": "code",
   "execution_count": 16,
   "metadata": {
    "scrolled": true
   },
   "outputs": [
    {
     "name": "stdout",
     "output_type": "stream",
     "text": [
      "Matrix Determinant: -105.00000000000006 \n",
      "\n"
     ]
    }
   ],
   "source": [
    "# matrix determinanti.e for every square matrix we can associate with a number\n",
    "print ('Matrix Determinant:', np.linalg.det(m), '\\n')"
   ]
  },
  {
   "cell_type": "code",
   "execution_count": 17,
   "metadata": {
    "scrolled": true
   },
   "outputs": [
    {
     "name": "stdout",
     "output_type": "stream",
     "text": [
      "Matrix inverse:\n",
      " [[-0.6         0.42857143 -0.05714286]\n",
      " [ 0.26666667 -0.04761905 -0.03809524]\n",
      " [ 0.13333333 -0.0952381   0.12380952]] \n",
      "\n"
     ]
    }
   ],
   "source": [
    "# matrix inverse i.e swap the positions of a and d, put negatives in front of b and c, and divide everything by the determinant (ad-bc)\n",
    "m_inv = np.linalg.inv(m)\n",
    "print ('Matrix inverse:\\n', m_inv, '\\n')"
   ]
  },
  {
   "cell_type": "code",
   "execution_count": 18,
   "metadata": {},
   "outputs": [
    {
     "name": "stdout",
     "output_type": "stream",
     "text": [
      "Product of matrix and its inverse:\n",
      " [[1. 0. 0.]\n",
      " [0. 1. 0.]\n",
      " [0. 0. 1.]]\n"
     ]
    }
   ],
   "source": [
    "# identity matrix (result of matrix x matrix_inverse)\n",
    "iden_m =  np.dot(m, m_inv)\n",
    "iden_m = np.round(np.abs(iden_m), 0)\n",
    "print ('Product of matrix and its inverse:\\n', iden_m)"
   ]
  },
  {
   "cell_type": "code",
   "execution_count": 19,
   "metadata": {},
   "outputs": [
    {
     "name": "stdout",
     "output_type": "stream",
     "text": [
      "Eigen Values: [-1.32455532 11.32455532  7.        ] \n",
      "\n",
      "Eigen Vectors:\n",
      " [[-0.91761521  0.46120352 -0.46829291]\n",
      " [ 0.35550789  0.79362022 -0.74926865]\n",
      " [ 0.17775394  0.39681011  0.46829291]]\n"
     ]
    }
   ],
   "source": [
    "# eigendecompositionis spectral decomposition is the factorization of a matrix into a canonical form, whereby the matrix is represented in terms of its eigenvalues and eigenvectors.\n",
    "m = np.array([[1, 5, 2],\n",
    "              [4, 7, 4],\n",
    "              [2, 0, 9]])\n",
    "\n",
    "eigen_vals, eigen_vecs = np.linalg.eig(m)\n",
    "\n",
    "print('Eigen Values:', eigen_vals, '\\n')\n",
    "print('Eigen Vectors:\\n', eigen_vecs)"
   ]
  },
  {
   "cell_type": "code",
   "execution_count": 20,
   "metadata": {},
   "outputs": [
    {
     "name": "stdout",
     "output_type": "stream",
     "text": [
      "Getting SVD outputs:-\n",
      "\n",
      "U:\n",
      " [[ 0.3831556  -0.39279153  0.83600634]\n",
      " [ 0.68811254 -0.48239977 -0.54202545]\n",
      " [ 0.61619228  0.78294653  0.0854506 ]] \n",
      "\n",
      "S:\n",
      " [12.10668383  6.91783499  1.25370079] \n",
      "\n",
      "VT:\n",
      " [[ 0.36079164  0.55610321  0.74871798]\n",
      " [-0.10935467 -0.7720271   0.62611158]\n",
      " [-0.92621323  0.30777163  0.21772844]] \n",
      "\n"
     ]
    }
   ],
   "source": [
    "# Singular value decomposition is the factorization of a real or complex matrices\n",
    "m = np.array([[1, 5, 2],\n",
    "              [4, 7, 4],\n",
    "              [2, 0, 9]])\n",
    "\n",
    "U, S, VT = np.linalg.svd(m)\n",
    "\n",
    "print ('Getting SVD outputs:-\\n')\n",
    "print('U:\\n', U, '\\n')\n",
    "print('S:\\n', S, '\\n')\n",
    "print('VT:\\n', VT, '\\n')"
   ]
  },
  {
   "cell_type": "code",
   "execution_count": 21,
   "metadata": {},
   "outputs": [
    {
     "name": "stdout",
     "output_type": "stream",
     "text": [
      "Data:  [ 6  5  3 11  4  2 11 16  4  5  3 16 14  4  7]\n"
     ]
    }
   ],
   "source": [
    "# summary statistics\n",
    "import scipy as sp\n",
    "import numpy as np\n",
    "\n",
    "# get data\n",
    "nums = np.random.randint(1,20, size=(1,15))[0]\n",
    "print('Data: ', nums)"
   ]
  },
  {
   "cell_type": "code",
   "execution_count": 22,
   "metadata": {},
   "outputs": [
    {
     "name": "stdout",
     "output_type": "stream",
     "text": [
      "Mean: 7.4\n",
      "Median: 5.0\n",
      "Mode: ModeResult(mode=array([4]), count=array([3]))\n",
      "Standard Deviation: 4.715930449020639\n",
      "Variance: 22.240000000000002\n",
      "Skew: 0.7479622881692257\n",
      "Kurtosis: -0.9452668081362257\n"
     ]
    }
   ],
   "source": [
    "# printing summary statics\n",
    "print ('Mean:', sp.mean(nums))\n",
    "print ('Median:', sp.median(nums))\n",
    "print ('Mode:', sp.stats.mode(nums))\n",
    "print ('Standard Deviation:', sp.std(nums))\n",
    "print ('Variance:', sp.var(nums))\n",
    "print ('Skew:', sp.stats.skew(nums))\n",
    "print ('Kurtosis:', sp.stats.kurtosis(nums))"
   ]
  },
  {
   "cell_type": "code",
   "execution_count": null,
   "metadata": {},
   "outputs": [],
   "source": []
  }
 ],
 "metadata": {
  "kernelspec": {
   "display_name": "Python 3",
   "language": "python",
   "name": "python3"
  },
  "language_info": {
   "codemirror_mode": {
    "name": "ipython",
    "version": 3
   },
   "file_extension": ".py",
   "mimetype": "text/x-python",
   "name": "python",
   "nbconvert_exporter": "python",
   "pygments_lexer": "ipython3",
   "version": "3.7.3"
  }
 },
 "nbformat": 4,
 "nbformat_minor": 2
}
